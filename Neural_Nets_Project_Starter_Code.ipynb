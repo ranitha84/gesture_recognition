{
  "nbformat": 4,
  "nbformat_minor": 0,
  "metadata": {
    "kernelspec": {
      "display_name": "Python 3",
      "language": "python",
      "name": "python3"
    },
    "language_info": {
      "codemirror_mode": {
        "name": "ipython",
        "version": 3
      },
      "file_extension": ".py",
      "mimetype": "text/x-python",
      "name": "python",
      "nbconvert_exporter": "python",
      "pygments_lexer": "ipython3",
      "version": "3.6.5"
    },
    "colab": {
      "name": "Neural_Nets_Project_Starter_Code.ipynb",
      "provenance": [],
      "collapsed_sections": [],
      "toc_visible": true,
      "include_colab_link": true
    }
  },
  "cells": [
    {
      "cell_type": "markdown",
      "metadata": {
        "id": "view-in-github",
        "colab_type": "text"
      },
      "source": [
        "<a href=\"https://colab.research.google.com/github/ranitha84/gesture_recognition/blob/main/Neural_Nets_Project_Starter_Code.ipynb\" target=\"_parent\"><img src=\"https://colab.research.google.com/assets/colab-badge.svg\" alt=\"Open In Colab\"/></a>"
      ]
    },
    {
      "cell_type": "markdown",
      "metadata": {
        "id": "Q9-h197kv27F"
      },
      "source": [
        "# Gesture Recognition\n",
        "In this group project, you are going to build a 3D Conv model that will be able to predict the 5 gestures correctly. Please import the following libraries to get started."
      ]
    },
    {
      "cell_type": "code",
      "metadata": {
        "colab": {
          "base_uri": "https://localhost:8080/"
        },
        "id": "E7yLzEko47Dq",
        "outputId": "8bf814bf-c07e-4ed3-b23f-8072f55181f9"
      },
      "source": [
        "from google.colab import drive\n",
        "drive.mount('/content/drive')"
      ],
      "execution_count": 1,
      "outputs": [
        {
          "output_type": "stream",
          "text": [
            "Drive already mounted at /content/drive; to attempt to forcibly remount, call drive.mount(\"/content/drive\", force_remount=True).\n"
          ],
          "name": "stdout"
        }
      ]
    },
    {
      "cell_type": "code",
      "metadata": {
        "id": "W2eRfVtWv27T"
      },
      "source": [
        "import numpy as np\n",
        "import os\n",
        "import datetime\n",
        "import os\n",
        "import cv2\n"
      ],
      "execution_count": 2,
      "outputs": []
    },
    {
      "cell_type": "markdown",
      "metadata": {
        "id": "m9hQLftQv27V"
      },
      "source": [
        "We set the random seed so that the results don't vary drastically."
      ]
    },
    {
      "cell_type": "code",
      "metadata": {
        "id": "kKknqtowv27W"
      },
      "source": [
        "np.random.seed(30)\n",
        "import random as rn\n",
        "from keras import backend as K\n",
        "import tensorflow as tf\n",
        "from keras.models import Sequential, Model\n",
        "from keras.layers import Dense, GRU, Flatten, TimeDistributed, Flatten, BatchNormalization, Activation,Dropout\n",
        "from keras.layers.convolutional import Conv3D, MaxPooling3D, Conv2D\n",
        "from keras.callbacks import ModelCheckpoint, ReduceLROnPlateau, EarlyStopping\n",
        "from keras import optimizers\n",
        "\n",
        "\n",
        "rn.seed(30)\n",
        "tf.random.set_seed(30)"
      ],
      "execution_count": 3,
      "outputs": []
    },
    {
      "cell_type": "markdown",
      "metadata": {
        "id": "XeBI99g4v27W"
      },
      "source": [
        "In this block, you read the folder names for training and validation. You also set the `batch_size` here. Note that you set the batch size in such a way that you are able to use the GPU in full capacity. You keep increasing the batch size until the machine throws an error."
      ]
    },
    {
      "cell_type": "code",
      "metadata": {
        "id": "DvC-PSJqv27X"
      },
      "source": [
        "drive_path = '/content/drive/MyDrive'\n",
        "\n",
        "train_doc = np.random.permutation(open(drive_path+'/notebooks/storage/Final_data/Collated_training/train.csv').readlines())\n",
        "val_doc = np.random.permutation(open(drive_path+'/notebooks/storage/Final_data/Collated_training/val.csv').readlines())\n",
        "batch_size = 32\n",
        "\n",
        "image_width = 120\n",
        "image_height = 120"
      ],
      "execution_count": 4,
      "outputs": []
    },
    {
      "cell_type": "markdown",
      "metadata": {
        "id": "6dyCak56v27X"
      },
      "source": [
        "## Generator\n",
        "This is one of the most important part of the code. The overall structure of the generator has been given. In the generator, you are going to preprocess the images as you have images of 2 different dimensions as well as create a batch of video frames. You have to experiment with `img_idx`, `y`,`z` and normalization such that you get high accuracy."
      ]
    },
    {
      "cell_type": "code",
      "metadata": {
        "id": "D0Hq0LxjHdwz"
      },
      "source": [
        "class CustomDataGenerator:\r\n",
        "\r\n",
        "  def __init__(self, width=120, height=120, frames=30, channels=3, \r\n",
        "               crop = True, normalize = True, resize=False ):\r\n",
        "    self.width= width\r\n",
        "    self.height = height\r\n",
        "    self.frames = 30\r\n",
        "    self.channels = channels\r\n",
        "    self.crop = crop\r\n",
        "    self.normalize= normalize\r\n",
        "    self.resize= resize\r\n",
        "\r\n",
        "  def __crop_image(self, image):\r\n",
        "    if image.shape[0] != image.shape[1]:\r\n",
        "      return image[0:120, 20:140]\r\n",
        "    else:\r\n",
        "      return image    \r\n",
        "\r\n",
        "  def __resize_image(self,image):\r\n",
        "    return cv2.resize(image, (self.width,self.height), interpolation = cv2.INTER_AREA)\r\n",
        "\r\n",
        "  def __normalize_image(self,image):\r\n",
        "    return image/255.0\r\n",
        "\r\n",
        "  def __initialize_batch_data(self,batch_size):\r\n",
        "     batch_data = np.zeros((batch_size,self.frames,self.width,self.height,self.channels)) # x is the number of images you use for each video, (y,z) is the final size of the input images and 3 is the number of channels RGB\r\n",
        "     batch_labels = np.zeros((batch_size,5)) # batch_labels is the one hot representation of the output\r\n",
        "     return batch_data, batch_labels\r\n",
        "\r\n",
        "\r\n",
        "  def generator(self, source_path, folder_list, batch_size):\r\n",
        "    print( 'Source path = ', source_path, '; batch size =', batch_size)\r\n",
        "    img_idx = [x for x in range(0, self.frames)] \r\n",
        "    while True:\r\n",
        "        t = np.random.permutation(folder_list)\r\n",
        "        num_batches = int(len(folder_list)/batch_size)\r\n",
        "        for batch in range(num_batches): # we iterate over the number of batches\r\n",
        "            batch_data, batch_labels = self.__initialize_batch_data(batch_size)\r\n",
        "            for folder in range(batch_size): # iterate over the batch_size\r\n",
        "                imgs = os.listdir(source_path+'/'+ t[folder + (batch*batch_size)].split(';')[0]) # read all the images in the folder\r\n",
        "                for idx,item in enumerate(img_idx): #  Iterate iver the frames/images of a folder to read them in\r\n",
        "                    image = cv2.imread(source_path+'/'+ t[folder + (batch*batch_size)].strip().split(';')[0]+'/'+imgs[item],cv2.IMREAD_COLOR)\r\n",
        "                    image = cv2.cvtColor(image, cv2.COLOR_BGR2RGB)\r\n",
        "\r\n",
        "                    #crop the images and resize them. Note that the images are of 2 different shape \r\n",
        "                    #and the conv3D will throw error if the inputs in a batch have different shapes\r\n",
        "\r\n",
        "                    # crop image\r\n",
        "                    if self.crop:\r\n",
        "                      image = self.__crop_image(image)\r\n",
        "                    # resize the image\r\n",
        "                    if self.normalize:\r\n",
        "                      image=  self.__normalize_image(self.__resize_image(image))\r\n",
        "                    else:\r\n",
        "                       image = self.resize_image(image)\r\n",
        "                    batch_data[folder,idx] = image\r\n",
        "                    #batch_data[folder,idx,:,:,0] = normalize_image(image)\r\n",
        "                    #batch_data[folder,idx,:,:,1] = normalize_image(image)\r\n",
        "                    #batch_data[folder,idx,:,:,2] = normalize_image(image)\r\n",
        "                    \r\n",
        "                batch_labels[folder, int(t[folder + (batch*batch_size)].strip().split(';')[2])] = 1\r\n",
        "            yield batch_data, batch_labels #you yield the batch_data and the batch_labels, remember what does yield do\r\n",
        "\r\n",
        "        \r\n",
        "        # write the code for the remaining data points which are left after full batches\r\n",
        "        if (len(folder_list) != batch_size*num_batches):\r\n",
        "                batch_size = len(folder_list) - (batch_size*num_batches)\r\n",
        "                yield self.generator(source_path, folder_list, batch_size) "
      ],
      "execution_count": 5,
      "outputs": []
    },
    {
      "cell_type": "markdown",
      "metadata": {
        "id": "nWYZbpQ7v27a"
      },
      "source": [
        "Note here that a video is represented above in the generator as (number of images, height, width, number of channels). Take this into consideration while creating the model architecture."
      ]
    },
    {
      "cell_type": "code",
      "metadata": {
        "id": "jDIQku-_v27b"
      },
      "source": [
        "\n",
        "train_path = drive_path+'/notebooks/storage/Final_data/Collated_training/train'\n",
        "val_path = drive_path+'/notebooks/storage/Final_data/Collated_training/val'\n"
      ],
      "execution_count": 6,
      "outputs": []
    },
    {
      "cell_type": "markdown",
      "metadata": {
        "id": "uTzCi6cYv27b"
      },
      "source": [
        "## Model\n",
        "Here you make the model using different functionalities that Keras provides. Remember to use `Conv3D` and `MaxPooling3D` and not `Conv2D` and `Maxpooling2D` for a 3D convolution model. You would want to use `TimeDistributed` while building a Conv2D + RNN model. Also remember that the last layer is the softmax. Design the network in such a way that the model is able to give good accuracy on the least number of parameters so that it can fit in the memory of the webcam."
      ]
    },
    {
      "cell_type": "code",
      "metadata": {
        "id": "fcxmBePZv27c"
      },
      "source": [
        "class ModelGenerator:\n",
        "\n",
        "  def __init__(self, input_shape = (30,120,120, 3),num_classes = 5):\n",
        "    self.input_shape= input_shape\n",
        "    self.num_classes = num_classes\n",
        "\n",
        "  \n",
        "  def model_cv3D(self):\n",
        "      model = Sequential()\n",
        "      model.add(Conv3D(\n",
        "          8, (3,3,3), activation='relu', input_shape=self.input_shape\n",
        "      ))\n",
        "      model.add(MaxPooling3D(pool_size=(1, 2, 2), strides=(1, 2, 2)))\n",
        "      model.add(Conv3D(16, (3,3,3), activation='relu'))\n",
        "      model.add(MaxPooling3D(pool_size=(1, 2, 2), strides=(1, 2, 2)))\n",
        "      model.add(Conv3D(32, (3,3,3), activation='relu'))\n",
        "      model.add(Conv3D(32, (3,3,3), activation='relu'))\n",
        "      model.add(MaxPooling3D(pool_size=(1, 2, 2), strides=(1, 2, 2)))\n",
        "      model.add(Conv3D(64, (2,2,2), activation='relu'))\n",
        "      model.add(Conv3D(64, (2,2,2), activation='relu'))\n",
        "      model.add(MaxPooling3D(pool_size=(1, 2, 2), strides=(1, 2, 2)))\n",
        "\n",
        "      model.add(Flatten())\n",
        "      model.add(Dense(512))\n",
        "      model.add(Dropout(0.5))\n",
        "      model.add(Dense(256))\n",
        "      model.add(Dropout(0.5))\n",
        "      model.add(Dense(self.num_classes, activation='softmax'))\n",
        "\n",
        "      return model\n",
        "\n"
      ],
      "execution_count": 7,
      "outputs": []
    },
    {
      "cell_type": "markdown",
      "metadata": {
        "id": "lRD1FoDlGXDk"
      },
      "source": [
        "# Train Model\r\n",
        "\r\n",
        "- This method takes the model, batch size and the number of epochs to train the model\r\n",
        "\r\n",
        "- Its the takes the train and validation genarators to the train the data on the data set"
      ]
    },
    {
      "cell_type": "code",
      "metadata": {
        "id": "DKucsx51ReoR"
      },
      "source": [
        "def train_model( model, batch_size, num_epochs, train_generator, val_generator, optimizer=None):\r\n",
        "    curr_dt_time = datetime.datetime.now()\r\n",
        "    num_train_sequences = len(train_doc)\r\n",
        "    print('# training sequences =', num_train_sequences)\r\n",
        "    num_val_sequences = len(val_doc)\r\n",
        "    print('# validation sequences =', num_val_sequences)\r\n",
        "    print ('# epochs =', num_epochs)\r\n",
        "\r\n",
        "    print('Number of epochs {}'.format(num_epochs))\r\n",
        "    print('Batch Size {}'.format(batch_size))\r\n",
        "    print('Current Date time {}'.format(curr_dt_time))\r\n",
        "\r\n",
        "    if optimizer == None:\r\n",
        "      optimizer = tf.keras.optimizers.Adam(learning_rate=0.01)\r\n",
        "    \r\n",
        "    model.compile(optimizer=optimizer, loss='categorical_crossentropy', metrics=['categorical_accuracy'])\r\n",
        "    print (model.summary())\r\n",
        "\r\n",
        "\r\n",
        "    model_name = drive_path+'/'+'model_init' + '_' + str(curr_dt_time).replace(' ','').replace(':','_') + '/'\r\n",
        "    \r\n",
        "    if not os.path.exists(model_name):\r\n",
        "        os.mkdir(model_name)\r\n",
        "            \r\n",
        "    filepath = model_name + 'model-{epoch:05d}-{loss:.5f}-{categorical_accuracy:.5f}-{val_loss:.5f}-{val_categorical_accuracy:.5f}.h5'\r\n",
        "\r\n",
        "    checkpoint = ModelCheckpoint(filepath, \r\n",
        "                                 monitor='val_loss', \r\n",
        "                                 verbose=1, \r\n",
        "                                 save_best_only=True, \r\n",
        "                                 save_weights_only=False, \r\n",
        "                                 mode='auto', \r\n",
        "                                 save_freq=5*batch_size)\r\n",
        "\r\n",
        "    LR = ReduceLROnPlateau(monitor='val_loss',factor=0.2, patience=2, model='auto', verbose=1)\r\n",
        "\r\n",
        "    early_stopping = EarlyStopping(monitor='val_loss',patience=5, mode='auto', verbose=1),\r\n",
        "\r\n",
        "    callbacks_list = [checkpoint, LR,early_stopping]\r\n",
        "\r\n",
        "    if (num_train_sequences%batch_size) == 0:\r\n",
        "      steps_per_epoch = int(num_train_sequences/batch_size)\r\n",
        "    else:\r\n",
        "        steps_per_epoch = (num_train_sequences//batch_size) + 1\r\n",
        "\r\n",
        "    if (num_val_sequences%batch_size) == 0:\r\n",
        "        validation_steps = int(num_val_sequences/batch_size)\r\n",
        "    else:\r\n",
        "        validation_steps = (num_val_sequences//batch_size) + 1\r\n",
        "\r\n",
        "    model.fit(train_generator, steps_per_epoch=steps_per_epoch, epochs=num_epochs, verbose=1, \r\n",
        "                    callbacks=callbacks_list, validation_data=val_generator, \r\n",
        "                    validation_steps=validation_steps, class_weight=None, workers=1, initial_epoch=0)"
      ],
      "execution_count": 8,
      "outputs": []
    },
    {
      "cell_type": "markdown",
      "metadata": {
        "id": "oIdefXeCv27d"
      },
      "source": [
        "Now that you have written the model, the next step is to `compile` the model. When you print the `summary` of the model, you'll see the total number of parameters you have to train."
      ]
    },
    {
      "cell_type": "markdown",
      "metadata": {
        "id": "2wx_EpElv27e"
      },
      "source": [
        "Let us create the `train_generator` and the `val_generator` which will be used in `.fit_generator`."
      ]
    },
    {
      "cell_type": "code",
      "metadata": {
        "colab": {
          "base_uri": "https://localhost:8080/"
        },
        "id": "pAQDSgfQv27e",
        "outputId": "81843952-68ab-4e58-ce7c-73d8636b9eb2"
      },
      "source": [
        "data_generator = CustomDataGenerator()\n",
        "\n",
        "train_generator = data_generator.generator(train_path, train_doc, batch_size)\n",
        "val_generator = data_generator.generator(val_path, val_doc, batch_size)\n",
        "\n",
        "model_generator = ModelGenerator()\n",
        "\n",
        "model = model_generator.model_cv3D()\n",
        "\n",
        "num_epochs =20\n",
        "\n",
        "train_model(model,batch_size,num_epochs,train_generator,val_generator)"
      ],
      "execution_count": null,
      "outputs": [
        {
          "output_type": "stream",
          "text": [
            "# training sequences = 663\n",
            "# validation sequences = 100\n",
            "# epochs = 20\n",
            "Number of epochs 20\n",
            "Batch Size 32\n",
            "Current Date time 2021-02-25 03:00:43.215446\n",
            "Model: \"sequential\"\n",
            "_________________________________________________________________\n",
            "Layer (type)                 Output Shape              Param #   \n",
            "=================================================================\n",
            "conv3d (Conv3D)              (None, 28, 118, 118, 8)   656       \n",
            "_________________________________________________________________\n",
            "max_pooling3d (MaxPooling3D) (None, 28, 59, 59, 8)     0         \n",
            "_________________________________________________________________\n",
            "conv3d_1 (Conv3D)            (None, 26, 57, 57, 16)    3472      \n",
            "_________________________________________________________________\n",
            "max_pooling3d_1 (MaxPooling3 (None, 26, 28, 28, 16)    0         \n",
            "_________________________________________________________________\n",
            "conv3d_2 (Conv3D)            (None, 24, 26, 26, 32)    13856     \n",
            "_________________________________________________________________\n",
            "conv3d_3 (Conv3D)            (None, 22, 24, 24, 32)    27680     \n",
            "_________________________________________________________________\n",
            "max_pooling3d_2 (MaxPooling3 (None, 22, 12, 12, 32)    0         \n",
            "_________________________________________________________________\n",
            "conv3d_4 (Conv3D)            (None, 21, 11, 11, 64)    16448     \n",
            "_________________________________________________________________\n",
            "conv3d_5 (Conv3D)            (None, 20, 10, 10, 64)    32832     \n",
            "_________________________________________________________________\n",
            "max_pooling3d_3 (MaxPooling3 (None, 20, 5, 5, 64)      0         \n",
            "_________________________________________________________________\n",
            "flatten (Flatten)            (None, 32000)             0         \n",
            "_________________________________________________________________\n",
            "dense (Dense)                (None, 512)               16384512  \n",
            "_________________________________________________________________\n",
            "dropout (Dropout)            (None, 512)               0         \n",
            "_________________________________________________________________\n",
            "dense_1 (Dense)              (None, 256)               131328    \n",
            "_________________________________________________________________\n",
            "dropout_1 (Dropout)          (None, 256)               0         \n",
            "_________________________________________________________________\n",
            "dense_2 (Dense)              (None, 5)                 1285      \n",
            "=================================================================\n",
            "Total params: 16,612,069\n",
            "Trainable params: 16,612,069\n",
            "Non-trainable params: 0\n",
            "_________________________________________________________________\n",
            "None\n",
            "Source path =  /content/drive/MyDrive/notebooks/storage/Final_data/Collated_training/train ; batch size = 32\n",
            "Epoch 1/20\n",
            " 2/21 [=>............................] - ETA: 17:13 - loss: 409.6357 - categorical_accuracy: 0.1016"
          ],
          "name": "stdout"
        }
      ]
    }
  ]
}